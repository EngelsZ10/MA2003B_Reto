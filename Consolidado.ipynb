{
 "cells": [
  {
   "cell_type": "code",
   "execution_count": 61,
   "metadata": {},
   "outputs": [],
   "source": [
    "import pandas as pd"
   ]
  },
  {
   "cell_type": "code",
   "execution_count": 62,
   "metadata": {},
   "outputs": [],
   "source": [
    "CA = pd.read_csv(\"datosSURESTE3DROP.csv\", index_col=0)\n",
    "JA = pd.read_csv(\"datosSURESTE2DROP.csv\", index_col=0)\n",
    "AA = pd.read_csv(\"datosNORESTE2DROP.csv\", index_col=0)"
   ]
  },
  {
   "cell_type": "code",
   "execution_count": 63,
   "metadata": {},
   "outputs": [],
   "source": [
    "size = 15000\n",
    "n = 0\n",
    "CA = CA.sample(n=size, random_state=n)\n",
    "JA = JA.sample(n=size, random_state=n)\n",
    "AA = AA.sample(n=size, random_state=n)"
   ]
  },
  {
   "cell_type": "code",
   "execution_count": 64,
   "metadata": {},
   "outputs": [
    {
     "data": {
      "text/plain": [
       "'size = min([i.shape[0] for i in [CA, JA, AA]])\\nsize = 15000\\nn = 0\\nwhile True:\\n    \\n    CA_CU = CA.sample(n=size, random_state=n)\\n    JA_CU = JA.sample(n=size, random_state=n)\\n    AA_CU = AA.sample(n=size, random_state=n)\\n\\n    mean = [i[\"RH\"].mean() for i in [CA_CU, JA_CU, AA_CU]]\\n\\n    if mean[0]<mean[1] and mean[1]<mean[2]:\\n        print(n)\\n        break\\n    else:\\n        print(n, mean[0])\\n        n+=1'"
      ]
     },
     "execution_count": 64,
     "metadata": {},
     "output_type": "execute_result"
    }
   ],
   "source": [
    "\"\"\"size = min([i.shape[0] for i in [CA, JA, AA]])\n",
    "size = 15000\n",
    "n = 0\n",
    "while True:\n",
    "    \n",
    "    CA_CU = CA.sample(n=size, random_state=n)\n",
    "    JA_CU = JA.sample(n=size, random_state=n)\n",
    "    AA_CU = AA.sample(n=size, random_state=n)\n",
    "\n",
    "    mean = [i[\"RH\"].mean() for i in [CA_CU, JA_CU, AA_CU]]\n",
    "\n",
    "    if mean[0]<mean[1] and mean[1]<mean[2]:\n",
    "        print(n)\n",
    "        break\n",
    "    else:\n",
    "        print(n, mean[0])\n",
    "        n+=1\"\"\""
   ]
  },
  {
   "cell_type": "code",
   "execution_count": 65,
   "metadata": {},
   "outputs": [],
   "source": [
    "f = lambda n, i: [i for _ in range(n)]\n",
    "CA[\"zona\"] = f(len(CA), \"CA\")\n",
    "JA[\"zona\"] = f(len(JA), \"GA\")\n",
    "AA[\"zona\"] = f(len(AA), \"SA\")"
   ]
  },
  {
   "cell_type": "code",
   "execution_count": 66,
   "metadata": {},
   "outputs": [],
   "source": [
    "datos = pd.concat([CA, JA, AA], axis=0)"
   ]
  },
  {
   "cell_type": "code",
   "execution_count": 67,
   "metadata": {},
   "outputs": [
    {
     "data": {
      "text/html": [
       "<div>\n",
       "<style scoped>\n",
       "    .dataframe tbody tr th:only-of-type {\n",
       "        vertical-align: middle;\n",
       "    }\n",
       "\n",
       "    .dataframe tbody tr th {\n",
       "        vertical-align: top;\n",
       "    }\n",
       "\n",
       "    .dataframe thead th {\n",
       "        text-align: right;\n",
       "    }\n",
       "</style>\n",
       "<table border=\"1\" class=\"dataframe\">\n",
       "  <thead>\n",
       "    <tr style=\"text-align: right;\">\n",
       "      <th></th>\n",
       "      <th>date</th>\n",
       "      <th>deltaDate</th>\n",
       "      <th>NO</th>\n",
       "      <th>NO2</th>\n",
       "      <th>NOX</th>\n",
       "      <th>SO2</th>\n",
       "      <th>TOUT</th>\n",
       "      <th>RH</th>\n",
       "      <th>SR</th>\n",
       "      <th>PM2.5</th>\n",
       "      <th>NOPPM</th>\n",
       "      <th>NO2PPM</th>\n",
       "      <th>NOXPPM</th>\n",
       "      <th>SO2PPM</th>\n",
       "      <th>SO2_discret</th>\n",
       "      <th>zona</th>\n",
       "      <th>CA</th>\n",
       "      <th>GA</th>\n",
       "      <th>SA</th>\n",
       "    </tr>\n",
       "  </thead>\n",
       "  <tbody>\n",
       "    <tr>\n",
       "      <th>807</th>\n",
       "      <td>2020-02-21 19:00:00</td>\n",
       "      <td>1243.0</td>\n",
       "      <td>6.8</td>\n",
       "      <td>14.9</td>\n",
       "      <td>21.6</td>\n",
       "      <td>4.4</td>\n",
       "      <td>12.09</td>\n",
       "      <td>54.0</td>\n",
       "      <td>0.043</td>\n",
       "      <td>12.0</td>\n",
       "      <td>0.0068</td>\n",
       "      <td>0.0149</td>\n",
       "      <td>0.0216</td>\n",
       "      <td>0.0044</td>\n",
       "      <td>bueno</td>\n",
       "      <td>CA</td>\n",
       "      <td>1</td>\n",
       "      <td>0</td>\n",
       "      <td>0</td>\n",
       "    </tr>\n",
       "    <tr>\n",
       "      <th>22548</th>\n",
       "      <td>2023-03-05 14:00:00</td>\n",
       "      <td>27830.0</td>\n",
       "      <td>3.6</td>\n",
       "      <td>4.2</td>\n",
       "      <td>7.7</td>\n",
       "      <td>4.1</td>\n",
       "      <td>26.46</td>\n",
       "      <td>38.0</td>\n",
       "      <td>0.632</td>\n",
       "      <td>9.0</td>\n",
       "      <td>0.0036</td>\n",
       "      <td>0.0042</td>\n",
       "      <td>0.0077</td>\n",
       "      <td>0.0041</td>\n",
       "      <td>bueno</td>\n",
       "      <td>CA</td>\n",
       "      <td>1</td>\n",
       "      <td>0</td>\n",
       "      <td>0</td>\n",
       "    </tr>\n",
       "    <tr>\n",
       "      <th>20723</th>\n",
       "      <td>2022-12-16 02:00:00</td>\n",
       "      <td>25922.0</td>\n",
       "      <td>13.6</td>\n",
       "      <td>22.0</td>\n",
       "      <td>35.5</td>\n",
       "      <td>5.0</td>\n",
       "      <td>12.80</td>\n",
       "      <td>72.0</td>\n",
       "      <td>0.001</td>\n",
       "      <td>15.0</td>\n",
       "      <td>0.0136</td>\n",
       "      <td>0.0220</td>\n",
       "      <td>0.0355</td>\n",
       "      <td>0.0050</td>\n",
       "      <td>bueno</td>\n",
       "      <td>CA</td>\n",
       "      <td>1</td>\n",
       "      <td>0</td>\n",
       "      <td>0</td>\n",
       "    </tr>\n",
       "    <tr>\n",
       "      <th>7743</th>\n",
       "      <td>2021-04-08 08:00:00</td>\n",
       "      <td>11120.0</td>\n",
       "      <td>39.3</td>\n",
       "      <td>22.9</td>\n",
       "      <td>62.1</td>\n",
       "      <td>2.9</td>\n",
       "      <td>21.76</td>\n",
       "      <td>71.0</td>\n",
       "      <td>0.140</td>\n",
       "      <td>27.0</td>\n",
       "      <td>0.0393</td>\n",
       "      <td>0.0229</td>\n",
       "      <td>0.0621</td>\n",
       "      <td>0.0029</td>\n",
       "      <td>bueno</td>\n",
       "      <td>CA</td>\n",
       "      <td>1</td>\n",
       "      <td>0</td>\n",
       "      <td>0</td>\n",
       "    </tr>\n",
       "    <tr>\n",
       "      <th>25027</th>\n",
       "      <td>2023-06-27 17:00:00</td>\n",
       "      <td>30569.0</td>\n",
       "      <td>4.0</td>\n",
       "      <td>4.0</td>\n",
       "      <td>7.9</td>\n",
       "      <td>3.0</td>\n",
       "      <td>39.19</td>\n",
       "      <td>15.0</td>\n",
       "      <td>0.438</td>\n",
       "      <td>14.0</td>\n",
       "      <td>0.0040</td>\n",
       "      <td>0.0040</td>\n",
       "      <td>0.0079</td>\n",
       "      <td>0.0030</td>\n",
       "      <td>bueno</td>\n",
       "      <td>CA</td>\n",
       "      <td>1</td>\n",
       "      <td>0</td>\n",
       "      <td>0</td>\n",
       "    </tr>\n",
       "  </tbody>\n",
       "</table>\n",
       "</div>"
      ],
      "text/plain": [
       "                      date  deltaDate    NO   NO2   NOX  SO2   TOUT    RH  \\\n",
       "807    2020-02-21 19:00:00     1243.0   6.8  14.9  21.6  4.4  12.09  54.0   \n",
       "22548  2023-03-05 14:00:00    27830.0   3.6   4.2   7.7  4.1  26.46  38.0   \n",
       "20723  2022-12-16 02:00:00    25922.0  13.6  22.0  35.5  5.0  12.80  72.0   \n",
       "7743   2021-04-08 08:00:00    11120.0  39.3  22.9  62.1  2.9  21.76  71.0   \n",
       "25027  2023-06-27 17:00:00    30569.0   4.0   4.0   7.9  3.0  39.19  15.0   \n",
       "\n",
       "          SR  PM2.5   NOPPM  NO2PPM  NOXPPM  SO2PPM SO2_discret zona  CA  GA  \\\n",
       "807    0.043   12.0  0.0068  0.0149  0.0216  0.0044       bueno   CA   1   0   \n",
       "22548  0.632    9.0  0.0036  0.0042  0.0077  0.0041       bueno   CA   1   0   \n",
       "20723  0.001   15.0  0.0136  0.0220  0.0355  0.0050       bueno   CA   1   0   \n",
       "7743   0.140   27.0  0.0393  0.0229  0.0621  0.0029       bueno   CA   1   0   \n",
       "25027  0.438   14.0  0.0040  0.0040  0.0079  0.0030       bueno   CA   1   0   \n",
       "\n",
       "       SA  \n",
       "807     0  \n",
       "22548   0  \n",
       "20723   0  \n",
       "7743    0  \n",
       "25027   0  "
      ]
     },
     "execution_count": 67,
     "metadata": {},
     "output_type": "execute_result"
    }
   ],
   "source": [
    "datos[\"CA\"] = (datos[\"zona\"] == \"CA\").astype(int)\n",
    "datos[\"GA\"] = (datos[\"zona\"] == \"GA\").astype(int)\n",
    "datos[\"SA\"] = (datos[\"zona\"] == \"SA\").astype(int)\n",
    "datos.head()"
   ]
  },
  {
   "cell_type": "code",
   "execution_count": 68,
   "metadata": {},
   "outputs": [
    {
     "data": {
      "text/plain": [
       "date           0\n",
       "deltaDate      0\n",
       "NO             0\n",
       "NO2            0\n",
       "NOX            0\n",
       "SO2            0\n",
       "TOUT           0\n",
       "RH             0\n",
       "SR             0\n",
       "PM2.5          0\n",
       "NOPPM          0\n",
       "NO2PPM         0\n",
       "NOXPPM         0\n",
       "SO2PPM         0\n",
       "SO2_discret    0\n",
       "zona           0\n",
       "CA             0\n",
       "GA             0\n",
       "SA             0\n",
       "dtype: int64"
      ]
     },
     "execution_count": 68,
     "metadata": {},
     "output_type": "execute_result"
    }
   ],
   "source": [
    "datos.isna().sum()"
   ]
  },
  {
   "cell_type": "code",
   "execution_count": 69,
   "metadata": {},
   "outputs": [],
   "source": [
    "datos.to_csv(\"datosConsolidadosDropNA.csv\")"
   ]
  },
  {
   "cell_type": "code",
   "execution_count": null,
   "metadata": {},
   "outputs": [],
   "source": [
    "\n"
   ]
  }
 ],
 "metadata": {
  "kernelspec": {
   "display_name": "base",
   "language": "python",
   "name": "python3"
  },
  "language_info": {
   "codemirror_mode": {
    "name": "ipython",
    "version": 3
   },
   "file_extension": ".py",
   "mimetype": "text/x-python",
   "name": "python",
   "nbconvert_exporter": "python",
   "pygments_lexer": "ipython3",
   "version": "3.11.4"
  }
 },
 "nbformat": 4,
 "nbformat_minor": 2
}
