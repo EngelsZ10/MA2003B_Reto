{
 "cells": [
  {
   "cell_type": "code",
   "execution_count": 14,
   "metadata": {},
   "outputs": [],
   "source": [
    "import pandas as pd"
   ]
  },
  {
   "cell_type": "code",
   "execution_count": 15,
   "metadata": {},
   "outputs": [],
   "source": [
    "CA = pd.read_csv(\"datosSURESTE3DROP.csv\", index_col=0)\n",
    "JA = pd.read_csv(\"datosSURESTE2DROP.csv\", index_col=0)\n",
    "AA = pd.read_csv(\"datosNORESTE2DROP.csv\", index_col=0)"
   ]
  },
  {
   "cell_type": "code",
   "execution_count": 16,
   "metadata": {},
   "outputs": [
    {
     "data": {
      "text/plain": [
       "[17420, 17420, 17420]"
      ]
     },
     "execution_count": 16,
     "metadata": {},
     "output_type": "execute_result"
    }
   ],
   "source": [
    "size = min([i.shape[0] for i in [CA, JA, AA]])\n",
    "size\n",
    "CA = CA.sample(n=size, random_state=856)\n",
    "JA = JA.sample(n=size, random_state=856)\n",
    "AA = AA.sample(n=size, random_state=856)\n",
    "\n",
    "[i.shape[0] for i in [CA, JA, AA]]"
   ]
  },
  {
   "cell_type": "code",
   "execution_count": 17,
   "metadata": {},
   "outputs": [],
   "source": [
    "f = lambda n, i: [i for _ in range(n)]\n",
    "CA[\"zona\"] = f(len(CA), \"CA\")\n",
    "JA[\"zona\"] = f(len(JA), \"GA\")\n",
    "AA[\"zona\"] = f(len(AA), \"SA\")"
   ]
  },
  {
   "cell_type": "code",
   "execution_count": 18,
   "metadata": {},
   "outputs": [],
   "source": [
    "datos = pd.concat([CA, JA, AA], axis=0)"
   ]
  },
  {
   "cell_type": "code",
   "execution_count": 19,
   "metadata": {},
   "outputs": [
    {
     "data": {
      "text/html": [
       "<div>\n",
       "<style scoped>\n",
       "    .dataframe tbody tr th:only-of-type {\n",
       "        vertical-align: middle;\n",
       "    }\n",
       "\n",
       "    .dataframe tbody tr th {\n",
       "        vertical-align: top;\n",
       "    }\n",
       "\n",
       "    .dataframe thead th {\n",
       "        text-align: right;\n",
       "    }\n",
       "</style>\n",
       "<table border=\"1\" class=\"dataframe\">\n",
       "  <thead>\n",
       "    <tr style=\"text-align: right;\">\n",
       "      <th></th>\n",
       "      <th>date</th>\n",
       "      <th>deltaDate</th>\n",
       "      <th>NO</th>\n",
       "      <th>NO2</th>\n",
       "      <th>NOX</th>\n",
       "      <th>SO2</th>\n",
       "      <th>TOUT</th>\n",
       "      <th>RH</th>\n",
       "      <th>SR</th>\n",
       "      <th>PM2.5</th>\n",
       "      <th>NOPPM</th>\n",
       "      <th>NO2PPM</th>\n",
       "      <th>NOXPPM</th>\n",
       "      <th>SO2PPM</th>\n",
       "      <th>SO2_discret</th>\n",
       "      <th>zona</th>\n",
       "      <th>CA</th>\n",
       "      <th>GA</th>\n",
       "      <th>SA</th>\n",
       "    </tr>\n",
       "  </thead>\n",
       "  <tbody>\n",
       "    <tr>\n",
       "      <th>7216</th>\n",
       "      <td>2021-02-23 19:00:00</td>\n",
       "      <td>10075.0</td>\n",
       "      <td>7.3</td>\n",
       "      <td>15.7</td>\n",
       "      <td>22.9</td>\n",
       "      <td>11.1</td>\n",
       "      <td>26.34</td>\n",
       "      <td>39.0</td>\n",
       "      <td>0.050</td>\n",
       "      <td>22.0</td>\n",
       "      <td>0.0073</td>\n",
       "      <td>0.0157</td>\n",
       "      <td>0.0229</td>\n",
       "      <td>0.0111</td>\n",
       "      <td>aceptable</td>\n",
       "      <td>CA</td>\n",
       "      <td>1</td>\n",
       "      <td>0</td>\n",
       "      <td>0</td>\n",
       "    </tr>\n",
       "    <tr>\n",
       "      <th>2973</th>\n",
       "      <td>2020-07-03 13:00:00</td>\n",
       "      <td>4429.0</td>\n",
       "      <td>3.9</td>\n",
       "      <td>3.3</td>\n",
       "      <td>7.1</td>\n",
       "      <td>3.3</td>\n",
       "      <td>32.40</td>\n",
       "      <td>48.0</td>\n",
       "      <td>0.705</td>\n",
       "      <td>44.0</td>\n",
       "      <td>0.0039</td>\n",
       "      <td>0.0033</td>\n",
       "      <td>0.0071</td>\n",
       "      <td>0.0033</td>\n",
       "      <td>bueno</td>\n",
       "      <td>CA</td>\n",
       "      <td>1</td>\n",
       "      <td>0</td>\n",
       "      <td>0</td>\n",
       "    </tr>\n",
       "    <tr>\n",
       "      <th>10970</th>\n",
       "      <td>2021-10-03 16:00:00</td>\n",
       "      <td>15400.0</td>\n",
       "      <td>2.8</td>\n",
       "      <td>1.7</td>\n",
       "      <td>4.4</td>\n",
       "      <td>4.2</td>\n",
       "      <td>30.09</td>\n",
       "      <td>49.0</td>\n",
       "      <td>0.297</td>\n",
       "      <td>5.0</td>\n",
       "      <td>0.0028</td>\n",
       "      <td>0.0017</td>\n",
       "      <td>0.0044</td>\n",
       "      <td>0.0042</td>\n",
       "      <td>bueno</td>\n",
       "      <td>CA</td>\n",
       "      <td>1</td>\n",
       "      <td>0</td>\n",
       "      <td>0</td>\n",
       "    </tr>\n",
       "    <tr>\n",
       "      <th>18622</th>\n",
       "      <td>2022-09-08 07:00:00</td>\n",
       "      <td>23551.0</td>\n",
       "      <td>61.4</td>\n",
       "      <td>11.5</td>\n",
       "      <td>72.8</td>\n",
       "      <td>5.3</td>\n",
       "      <td>21.88</td>\n",
       "      <td>85.0</td>\n",
       "      <td>0.024</td>\n",
       "      <td>16.0</td>\n",
       "      <td>0.0614</td>\n",
       "      <td>0.0115</td>\n",
       "      <td>0.0728</td>\n",
       "      <td>0.0053</td>\n",
       "      <td>bueno</td>\n",
       "      <td>CA</td>\n",
       "      <td>1</td>\n",
       "      <td>0</td>\n",
       "      <td>0</td>\n",
       "    </tr>\n",
       "    <tr>\n",
       "      <th>11905</th>\n",
       "      <td>2021-11-15 10:00:00</td>\n",
       "      <td>16426.0</td>\n",
       "      <td>9.6</td>\n",
       "      <td>14.4</td>\n",
       "      <td>23.8</td>\n",
       "      <td>4.1</td>\n",
       "      <td>20.57</td>\n",
       "      <td>68.0</td>\n",
       "      <td>0.345</td>\n",
       "      <td>29.0</td>\n",
       "      <td>0.0096</td>\n",
       "      <td>0.0144</td>\n",
       "      <td>0.0238</td>\n",
       "      <td>0.0041</td>\n",
       "      <td>bueno</td>\n",
       "      <td>CA</td>\n",
       "      <td>1</td>\n",
       "      <td>0</td>\n",
       "      <td>0</td>\n",
       "    </tr>\n",
       "  </tbody>\n",
       "</table>\n",
       "</div>"
      ],
      "text/plain": [
       "                      date  deltaDate    NO   NO2   NOX   SO2   TOUT    RH  \\\n",
       "7216   2021-02-23 19:00:00    10075.0   7.3  15.7  22.9  11.1  26.34  39.0   \n",
       "2973   2020-07-03 13:00:00     4429.0   3.9   3.3   7.1   3.3  32.40  48.0   \n",
       "10970  2021-10-03 16:00:00    15400.0   2.8   1.7   4.4   4.2  30.09  49.0   \n",
       "18622  2022-09-08 07:00:00    23551.0  61.4  11.5  72.8   5.3  21.88  85.0   \n",
       "11905  2021-11-15 10:00:00    16426.0   9.6  14.4  23.8   4.1  20.57  68.0   \n",
       "\n",
       "          SR  PM2.5   NOPPM  NO2PPM  NOXPPM  SO2PPM SO2_discret zona  CA  GA  \\\n",
       "7216   0.050   22.0  0.0073  0.0157  0.0229  0.0111   aceptable   CA   1   0   \n",
       "2973   0.705   44.0  0.0039  0.0033  0.0071  0.0033       bueno   CA   1   0   \n",
       "10970  0.297    5.0  0.0028  0.0017  0.0044  0.0042       bueno   CA   1   0   \n",
       "18622  0.024   16.0  0.0614  0.0115  0.0728  0.0053       bueno   CA   1   0   \n",
       "11905  0.345   29.0  0.0096  0.0144  0.0238  0.0041       bueno   CA   1   0   \n",
       "\n",
       "       SA  \n",
       "7216    0  \n",
       "2973    0  \n",
       "10970   0  \n",
       "18622   0  \n",
       "11905   0  "
      ]
     },
     "execution_count": 19,
     "metadata": {},
     "output_type": "execute_result"
    }
   ],
   "source": [
    "datos[\"CA\"] = (datos[\"zona\"] == \"CA\").astype(int)\n",
    "datos[\"GA\"] = (datos[\"zona\"] == \"GA\").astype(int)\n",
    "datos[\"SA\"] = (datos[\"zona\"] == \"SA\").astype(int)\n",
    "datos.head()"
   ]
  },
  {
   "cell_type": "code",
   "execution_count": 20,
   "metadata": {},
   "outputs": [],
   "source": [
    "datos.to_csv(\"datosConsolidadosDrop.csv\")"
   ]
  },
  {
   "cell_type": "code",
   "execution_count": null,
   "metadata": {},
   "outputs": [],
   "source": [
    "\n"
   ]
  }
 ],
 "metadata": {
  "kernelspec": {
   "display_name": "base",
   "language": "python",
   "name": "python3"
  },
  "language_info": {
   "codemirror_mode": {
    "name": "ipython",
    "version": 3
   },
   "file_extension": ".py",
   "mimetype": "text/x-python",
   "name": "python",
   "nbconvert_exporter": "python",
   "pygments_lexer": "ipython3",
   "version": "3.11.4"
  }
 },
 "nbformat": 4,
 "nbformat_minor": 2
}
