{
 "cells": [
  {
   "cell_type": "code",
   "execution_count": 2,
   "metadata": {},
   "outputs": [],
   "source": [
    "import pandas as pd\n",
    "datos = pd.read_csv(\"limpios.csv\", index_col=0)"
   ]
  },
  {
   "cell_type": "code",
   "execution_count": 4,
   "metadata": {},
   "outputs": [
    {
     "data": {
      "text/html": [
       "<div>\n",
       "<style scoped>\n",
       "    .dataframe tbody tr th:only-of-type {\n",
       "        vertical-align: middle;\n",
       "    }\n",
       "\n",
       "    .dataframe tbody tr th {\n",
       "        vertical-align: top;\n",
       "    }\n",
       "\n",
       "    .dataframe thead th {\n",
       "        text-align: right;\n",
       "    }\n",
       "</style>\n",
       "<table border=\"1\" class=\"dataframe\">\n",
       "  <thead>\n",
       "    <tr style=\"text-align: right;\">\n",
       "      <th></th>\n",
       "      <th>NO</th>\n",
       "      <th>NO2</th>\n",
       "      <th>NOX</th>\n",
       "      <th>SO2</th>\n",
       "      <th>TOUT</th>\n",
       "      <th>RH</th>\n",
       "      <th>SR</th>\n",
       "    </tr>\n",
       "  </thead>\n",
       "  <tbody>\n",
       "    <tr>\n",
       "      <th>0</th>\n",
       "      <td>4.3</td>\n",
       "      <td>6.375</td>\n",
       "      <td>10.625</td>\n",
       "      <td>0.850</td>\n",
       "      <td>12.2675</td>\n",
       "      <td>92.75</td>\n",
       "      <td>0.000</td>\n",
       "    </tr>\n",
       "    <tr>\n",
       "      <th>1</th>\n",
       "      <td>2.0</td>\n",
       "      <td>5.200</td>\n",
       "      <td>7.200</td>\n",
       "      <td>1.775</td>\n",
       "      <td>11.6800</td>\n",
       "      <td>93.00</td>\n",
       "      <td>0.037</td>\n",
       "    </tr>\n",
       "    <tr>\n",
       "      <th>2</th>\n",
       "      <td>2.6</td>\n",
       "      <td>5.000</td>\n",
       "      <td>7.600</td>\n",
       "      <td>0.750</td>\n",
       "      <td>11.6800</td>\n",
       "      <td>93.00</td>\n",
       "      <td>0.037</td>\n",
       "    </tr>\n",
       "    <tr>\n",
       "      <th>3</th>\n",
       "      <td>3.1</td>\n",
       "      <td>5.900</td>\n",
       "      <td>8.900</td>\n",
       "      <td>0.725</td>\n",
       "      <td>11.7000</td>\n",
       "      <td>93.00</td>\n",
       "      <td>0.037</td>\n",
       "    </tr>\n",
       "    <tr>\n",
       "      <th>4</th>\n",
       "      <td>2.0</td>\n",
       "      <td>4.500</td>\n",
       "      <td>6.500</td>\n",
       "      <td>0.775</td>\n",
       "      <td>11.8000</td>\n",
       "      <td>93.00</td>\n",
       "      <td>0.037</td>\n",
       "    </tr>\n",
       "    <tr>\n",
       "      <th>...</th>\n",
       "      <td>...</td>\n",
       "      <td>...</td>\n",
       "      <td>...</td>\n",
       "      <td>...</td>\n",
       "      <td>...</td>\n",
       "      <td>...</td>\n",
       "      <td>...</td>\n",
       "    </tr>\n",
       "    <tr>\n",
       "      <th>31785</th>\n",
       "      <td>3.2</td>\n",
       "      <td>6.900</td>\n",
       "      <td>9.900</td>\n",
       "      <td>3.600</td>\n",
       "      <td>38.1800</td>\n",
       "      <td>19.00</td>\n",
       "      <td>0.079</td>\n",
       "    </tr>\n",
       "    <tr>\n",
       "      <th>31786</th>\n",
       "      <td>2.6</td>\n",
       "      <td>11.300</td>\n",
       "      <td>13.700</td>\n",
       "      <td>3.600</td>\n",
       "      <td>36.3800</td>\n",
       "      <td>23.00</td>\n",
       "      <td>0.003</td>\n",
       "    </tr>\n",
       "    <tr>\n",
       "      <th>31787</th>\n",
       "      <td>2.9</td>\n",
       "      <td>10.800</td>\n",
       "      <td>13.500</td>\n",
       "      <td>3.700</td>\n",
       "      <td>35.1000</td>\n",
       "      <td>26.00</td>\n",
       "      <td>0.001</td>\n",
       "    </tr>\n",
       "    <tr>\n",
       "      <th>31788</th>\n",
       "      <td>3.0</td>\n",
       "      <td>10.100</td>\n",
       "      <td>12.800</td>\n",
       "      <td>15.300</td>\n",
       "      <td>33.6000</td>\n",
       "      <td>40.00</td>\n",
       "      <td>0.001</td>\n",
       "    </tr>\n",
       "    <tr>\n",
       "      <th>31789</th>\n",
       "      <td>2.8</td>\n",
       "      <td>6.100</td>\n",
       "      <td>8.700</td>\n",
       "      <td>24.500</td>\n",
       "      <td>32.4200</td>\n",
       "      <td>43.00</td>\n",
       "      <td>0.001</td>\n",
       "    </tr>\n",
       "  </tbody>\n",
       "</table>\n",
       "<p>31790 rows × 7 columns</p>\n",
       "</div>"
      ],
      "text/plain": [
       "        NO     NO2     NOX     SO2     TOUT     RH     SR\n",
       "0      4.3   6.375  10.625   0.850  12.2675  92.75  0.000\n",
       "1      2.0   5.200   7.200   1.775  11.6800  93.00  0.037\n",
       "2      2.6   5.000   7.600   0.750  11.6800  93.00  0.037\n",
       "3      3.1   5.900   8.900   0.725  11.7000  93.00  0.037\n",
       "4      2.0   4.500   6.500   0.775  11.8000  93.00  0.037\n",
       "...    ...     ...     ...     ...      ...    ...    ...\n",
       "31785  3.2   6.900   9.900   3.600  38.1800  19.00  0.079\n",
       "31786  2.6  11.300  13.700   3.600  36.3800  23.00  0.003\n",
       "31787  2.9  10.800  13.500   3.700  35.1000  26.00  0.001\n",
       "31788  3.0  10.100  12.800  15.300  33.6000  40.00  0.001\n",
       "31789  2.8   6.100   8.700  24.500  32.4200  43.00  0.001\n",
       "\n",
       "[31790 rows x 7 columns]"
      ]
     },
     "execution_count": 4,
     "metadata": {},
     "output_type": "execute_result"
    }
   ],
   "source": [
    "datos[[\"NO\",\"NO2\", \"NOX\", \"SO2\", \"TOUT\", \"RH\", \"SR\"]]"
   ]
  },
  {
   "cell_type": "code",
   "execution_count": 12,
   "metadata": {},
   "outputs": [
    {
     "ename": "SyntaxError",
     "evalue": "cannot assign to subscript here. Maybe you meant '==' instead of '='? (3708149896.py, line 1)",
     "output_type": "error",
     "traceback": [
      "\u001b[1;36m  Cell \u001b[1;32mIn[12], line 1\u001b[1;36m\u001b[0m\n\u001b[1;33m    datos[\"NO2\"]*0.001<intervalo[intervalo[\"etiqueta\"] = \"bueno\"]\u001b[0m\n\u001b[1;37m                                 ^\u001b[0m\n\u001b[1;31mSyntaxError\u001b[0m\u001b[1;31m:\u001b[0m cannot assign to subscript here. Maybe you meant '==' instead of '='?\n"
     ]
    }
   ],
   "source": [
    "<"
   ]
  },
  {
   "cell_type": "code",
   "execution_count": 29,
   "metadata": {},
   "outputs": [],
   "source": [
    "\n"
   ]
  },
  {
   "cell_type": "code",
   "execution_count": 58,
   "metadata": {},
   "outputs": [],
   "source": []
  },
  {
   "cell_type": "code",
   "execution_count": 62,
   "metadata": {},
   "outputs": [
    {
     "data": {
      "text/plain": [
       "SO2\n",
       "bueno                  25089\n",
       "aceptable               6676\n",
       "mala                      22\n",
       "muy mala                   2\n",
       "Extremadamente mala        1\n",
       "Name: count, dtype: int64"
      ]
     },
     "execution_count": 62,
     "metadata": {},
     "output_type": "execute_result"
    }
   ],
   "source": []
  },
  {
   "cell_type": "code",
   "execution_count": 64,
   "metadata": {},
   "outputs": [
    {
     "data": {
      "text/plain": [
       "NO2\n",
       "bueno                  18466\n",
       "Extremadamente mala     6302\n",
       "aceptable               3060\n",
       "mala                    2299\n",
       "muy mala                1663\n",
       "Name: count, dtype: int64"
      ]
     },
     "execution_count": 64,
     "metadata": {},
     "output_type": "execute_result"
    }
   ],
   "source": [
    "datos[\"NO2\"].apply(lambda x: change(x, \"NO2\")).value_counts()"
   ]
  }
 ],
 "metadata": {
  "kernelspec": {
   "display_name": "base",
   "language": "python",
   "name": "python3"
  },
  "language_info": {
   "codemirror_mode": {
    "name": "ipython",
    "version": 3
   },
   "file_extension": ".py",
   "mimetype": "text/x-python",
   "name": "python",
   "nbconvert_exporter": "python",
   "pygments_lexer": "ipython3",
   "version": "3.11.4"
  }
 },
 "nbformat": 4,
 "nbformat_minor": 2
}
